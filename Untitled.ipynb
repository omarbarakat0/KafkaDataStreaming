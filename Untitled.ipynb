{
 "cells": [
  {
   "cell_type": "code",
   "execution_count": 58,
   "id": "d6cd086a-d3c6-4048-a633-641052f1df37",
   "metadata": {},
   "outputs": [],
   "source": [
    "import os\n",
    "import numpy as np\n",
    "import copy\n",
    "import shutil\n",
    "from PIL import Image"
   ]
  },
  {
   "cell_type": "code",
   "execution_count": 47,
   "id": "d51dbc79-2f29-4d81-ad53-6decaf2bb4d2",
   "metadata": {},
   "outputs": [],
   "source": [
    "def join_image(image1_path, image2_path):\n",
    "    \n",
    "    # load first image\n",
    "    image1 = Image.open(image1_path)\n",
    "    \n",
    "    # load second image\n",
    "    image2 = Image.open(image2_path)\n",
    "    \n",
    "    # rotate second image\n",
    "    image2_rot = image2\n",
    "    \n",
    "    #load images as array\n",
    "    image1_array = np.asarray(image1)[:,:,:3]\n",
    "    image2_array = np.asarray(image2_rot)[:,:,:3]\n",
    "    \n",
    "    if image1_array.shape==image2_array.shape:\n",
    "    \n",
    "        #extract imageshape\n",
    "        imH, _, _ = image1_array.shape\n",
    "\n",
    "        # cut images\n",
    "        face01 = image1_array[:int(imH/2)]\n",
    "        face02 = image2_array[int(imH/2):]\n",
    "\n",
    "        # merge image parts\n",
    "        image = np.concatenate([face01, face02], axis=0)\n",
    "        \n",
    "    else:\n",
    "        print(\"images shapes do not match\")\n",
    "\n",
    "    return image1, image2, image"
   ]
  },
  {
   "cell_type": "code",
   "execution_count": 69,
   "id": "b4c754a1-d76f-4c6f-aaaf-e455de46c32a",
   "metadata": {},
   "outputs": [],
   "source": [
    "def process_images(path_to_images='./', path_to_output='../Processed_images/'):\n",
    "    \n",
    "    \n",
    "    if not os.path.exists(path_to_output):\n",
    "        os.makedirs(path_to_output)\n",
    "    \n",
    "    images = os.listdir(path_to_images)\n",
    "    images = [f for f in images if f.endswith('.jpg')]\n",
    "    imagesName = [f[:f.index('.')] for f in images]\n",
    "    imagesID = [f[-6:] for f in imagesName]\n",
    "    timestamps = np.unique(np.array(imagesID), return_index=False)\n",
    "    \n",
    "    images_original = [os.path.join(path_to_images, f) for f in images]\n",
    "    \n",
    "    \n",
    "    list_of_images = []\n",
    "    for t in timestamps:\n",
    "        one_piece_images = dict()\n",
    "        for image in images:\n",
    "            if t in image:\n",
    "                image_side = image[:image.index('_')]\n",
    "                one_piece_images[image_side] = image\n",
    "\n",
    "        list_of_images.append(one_piece_images)\n",
    "        \n",
    "    for list_of_one_piece_images in list_of_images:\n",
    "        timestamp = list_of_one_piece_images['side1a'][list_of_one_piece_images['side1a'].index('_')+1:list_of_one_piece_images['side1a'].index('.')]\n",
    "        for i in range(1, 5):\n",
    "            _, _, side = join_image(image1_path=list_of_one_piece_images[f'side{i}a'],\n",
    "                                    image2_path=list_of_one_piece_images[f'side{i}b'])\n",
    "\n",
    "            side_image = Image.fromarray(side)\n",
    "            side_image.save(f'{path_to_output}/side{i}_{timestamp}.jpg')\n",
    "\n",
    "        shutil.copy(list_of_one_piece_images['bottomview'], path_to_output)\n",
    "        shutil.copy(list_of_one_piece_images['topview'], path_to_output)"
   ]
  },
  {
   "cell_type": "code",
   "execution_count": 70,
   "id": "f4d56368-55c5-4f65-981d-f0e0d30d9ace",
   "metadata": {},
   "outputs": [],
   "source": [
    "process_images(path_to_images='./')"
   ]
  }
 ],
 "metadata": {
  "kernelspec": {
   "display_name": "Python 3 (ipykernel)",
   "language": "python",
   "name": "python3"
  },
  "language_info": {
   "codemirror_mode": {
    "name": "ipython",
    "version": 3
   },
   "file_extension": ".py",
   "mimetype": "text/x-python",
   "name": "python",
   "nbconvert_exporter": "python",
   "pygments_lexer": "ipython3",
   "version": "3.9.12"
  }
 },
 "nbformat": 4,
 "nbformat_minor": 5
}
